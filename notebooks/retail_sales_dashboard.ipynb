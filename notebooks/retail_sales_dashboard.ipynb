{
 "cells": [
  {
   "cell_type": "code",
   "execution_count": null,
   "id": "0bea1719",
   "metadata": {
    "vscode": {
     "languageId": "plaintext"
    }
   },
   "outputs": [],
   "source": [
    "import pandas as pd\n",
    "import numpy as np\n",
    "\n",
    "# Create sample data\n",
    "np.random.seed(42)\n",
    "dates = pd.date_range(start='2025-01-01', end='2025-06-30', freq='D')\n",
    "data = {\n",
    "    'order_id': np.arange(1, len(dates)+1),\n",
    "    'product_category': np.random.choice(['Electronics','Furniture','Clothing','Grocery'], len(dates)),\n",
    "    'region': np.random.choice(['North','South','East','West'], len(dates)),\n",
    "    'sales_amount': np.random.randint(100, 5000, len(dates)),\n",
    "    'profit': np.random.randint(20, 1000, len(dates)),\n",
    "    'date': dates\n",
    "}\n",
    "df = pd.DataFrame(data)\n",
    "df.to_csv('../data/retail_sales.csv', index=False)\n",
    "df.head()\n"
   ]
  }
 ],
 "metadata": {
  "language_info": {
   "name": "python"
  }
 },
 "nbformat": 4,
 "nbformat_minor": 5
}
